{
 "metadata": {
  "signature": "sha256:bc6b38caab9f07556429b0455f4aaa05772c1a9015e6516c60251b8b6c19ba22"
 },
 "nbformat": 3,
 "nbformat_minor": 0,
 "worksheets": [
  {
   "cells": [
    {
     "cell_type": "markdown",
     "metadata": {},
     "source": [
      "# Working with APA library"
     ]
    },
    {
     "cell_type": "markdown",
     "metadata": {},
     "source": [
      "# Requirements\n",
      "\n",
      "There is two options to work with the APA library: the good and the ugly.\n",
      "\n",
      "## The good (quick)\n",
      "\n",
      "Log into the *osf-red* machine: `ssh -Y aod@osf-red.aiv.alma.cl`"
     ]
    },
    {
     "cell_type": "code",
     "collapsed": false,
     "input": [
      "import DataBase as db"
     ],
     "language": "python",
     "metadata": {},
     "outputs": []
    },
    {
     "cell_type": "markdown",
     "metadata": {},
     "source": [
      "## Create Database instance.\n",
      "If this is the first time you create this instance in your computer, it will take some time to complete, as it will populate the local \"archive\""
     ]
    },
    {
     "cell_type": "code",
     "collapsed": false,
     "input": [
      "datas = db.Database()"
     ],
     "language": "python",
     "metadata": {},
     "outputs": []
    },
    {
     "cell_type": "code",
     "collapsed": false,
     "input": [
      "datas.process_sbs()"
     ],
     "language": "python",
     "metadata": {},
     "outputs": []
    },
    {
     "cell_type": "code",
     "collapsed": false,
     "input": [
      "datas.do_summarize_sb()"
     ],
     "language": "python",
     "metadata": {},
     "outputs": []
    },
    {
     "cell_type": "code",
     "collapsed": false,
     "input": [],
     "language": "python",
     "metadata": {},
     "outputs": []
    }
   ],
   "metadata": {}
  }
 ]
}